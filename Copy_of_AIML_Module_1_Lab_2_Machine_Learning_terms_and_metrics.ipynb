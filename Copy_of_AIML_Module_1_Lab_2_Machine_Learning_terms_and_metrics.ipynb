{
  "cells": [
    {
      "cell_type": "markdown",
      "metadata": {
        "id": "view-in-github",
        "colab_type": "text"
      },
      "source": [
        "<a href=\"https://colab.research.google.com/github/kruthikakkamgari/AIML_Project_and_Labs/blob/main/Copy_of_AIML_Module_1_Lab_2_Machine_Learning_terms_and_metrics.ipynb\" target=\"_parent\"><img src=\"https://colab.research.google.com/assets/colab-badge.svg\" alt=\"Open In Colab\"/></a>"
      ]
    },
    {
      "cell_type": "markdown",
      "metadata": {
        "id": "3Eu9VZbF01eq"
      },
      "source": [
        "# Machine Learning terms and metrics\n",
        "\n",
        "Module 1, Lab 2\n",
        "\n",
        "In this lab, we will show a part of the ML pipeline by using the California Housing dataset. There are 20640 samples, each with 8 attributes like income of the block, age of the houses per district etc. The task is to predict the cost of the houses per district. We will use the scikit-learn library to load the data and perform some basic data preprocessing and model training. We will also show how to evaluate the model using some common metrics, split the data into training and testing sets, and use cross-validation to get a better estimate of the model's performance."
      ]
    },
    {
      "cell_type": "code",
      "execution_count": 43,
      "metadata": {
        "id": "8qBvyEem0vLi"
      },
      "outputs": [],
      "source": [
        "import numpy as np\n",
        "from sklearn import datasets\n",
        "import matplotlib.pyplot as plt\n",
        "\n",
        "rng = np.random.default_rng(seed=42)"
      ]
    },
    {
      "cell_type": "code",
      "execution_count": 44,
      "metadata": {
        "colab": {
          "base_uri": "https://localhost:8080/"
        },
        "id": "8LpqjN991GGJ",
        "outputId": "56075684-545b-42d0-f691-68851adae93e"
      },
      "outputs": [
        {
          "output_type": "stream",
          "name": "stdout",
          "text": [
            ".. _california_housing_dataset:\n",
            "\n",
            "California Housing dataset\n",
            "--------------------------\n",
            "\n",
            "**Data Set Characteristics:**\n",
            "\n",
            ":Number of Instances: 20640\n",
            "\n",
            ":Number of Attributes: 8 numeric, predictive attributes and the target\n",
            "\n",
            ":Attribute Information:\n",
            "    - MedInc        median income in block group\n",
            "    - HouseAge      median house age in block group\n",
            "    - AveRooms      average number of rooms per household\n",
            "    - AveBedrms     average number of bedrooms per household\n",
            "    - Population    block group population\n",
            "    - AveOccup      average number of household members\n",
            "    - Latitude      block group latitude\n",
            "    - Longitude     block group longitude\n",
            "\n",
            ":Missing Attribute Values: None\n",
            "\n",
            "This dataset was obtained from the StatLib repository.\n",
            "https://www.dcc.fc.up.pt/~ltorgo/Regression/cal_housing.html\n",
            "\n",
            "The target variable is the median house value for California districts,\n",
            "expressed in hundreds of thousands of dollars ($100,000).\n",
            "\n",
            "This dataset was derived from the 1990 U.S. census, using one row per census\n",
            "block group. A block group is the smallest geographical unit for which the U.S.\n",
            "Census Bureau publishes sample data (a block group typically has a population\n",
            "of 600 to 3,000 people).\n",
            "\n",
            "A household is a group of people residing within a home. Since the average\n",
            "number of rooms and bedrooms in this dataset are provided per household, these\n",
            "columns may take surprisingly large values for block groups with few households\n",
            "and many empty houses, such as vacation resorts.\n",
            "\n",
            "It can be downloaded/loaded using the\n",
            ":func:`sklearn.datasets.fetch_california_housing` function.\n",
            "\n",
            ".. rubric:: References\n",
            "\n",
            "- Pace, R. Kelley and Ronald Barry, Sparse Spatial Autoregressions,\n",
            "  Statistics and Probability Letters, 33 (1997) 291-297\n",
            "\n"
          ]
        }
      ],
      "source": [
        "dataset = datasets.fetch_california_housing()\n",
        "# Dataset description\n",
        "print(dataset.DESCR)"
      ]
    },
    {
      "cell_type": "markdown",
      "metadata": {
        "id": "PCe1VNftevgE"
      },
      "source": [
        "Given below are the list of target values. These correspond to the house value derived considering all the 8 input features and are continuous values. We should use regression models to predict these values but we will start with a simple classification model for the sake of simplicity. We need to just round off the values to the nearest integer and use a classification model to predict the house value."
      ]
    },
    {
      "cell_type": "code",
      "execution_count": 45,
      "metadata": {
        "colab": {
          "base_uri": "https://localhost:8080/"
        },
        "id": "F8K0ggBOevgE",
        "outputId": "58ce0abe-4eec-4f72-bb38-4e80e3c16d72"
      },
      "outputs": [
        {
          "output_type": "stream",
          "name": "stdout",
          "text": [
            "Orignal target values: [4.526 3.585 3.521 ... 0.923 0.847 0.894]\n",
            "Target values after conversion: [4 3 3 ... 0 0 0]\n",
            "Input variables shape: (20640, 8)\n",
            "Output variables shape: (20640,)\n"
          ]
        }
      ],
      "source": [
        "print(\"Orignal target values:\", dataset.target)\n",
        "\n",
        "dataset.target = dataset.target.astype(int)\n",
        "\n",
        "print(\"Target values after conversion:\", dataset.target)\n",
        "print(\"Input variables shape:\", dataset.data.shape)\n",
        "print(\"Output variables shape:\", dataset.target.shape)"
      ]
    },
    {
      "cell_type": "markdown",
      "metadata": {
        "id": "iNx4174W5xRg"
      },
      "source": [
        "The simplest model to use for classification is the K-Nearest Neighbors model. We will use this model to predict the house value with a K value of 1. We will also use the accuracy metric to evaluate the model."
      ]
    },
    {
      "cell_type": "code",
      "execution_count": 46,
      "metadata": {
        "id": "07zpydQj1hIQ"
      },
      "outputs": [],
      "source": [
        "def NN1(traindata, trainlabel, query):\n",
        "    \"\"\"\n",
        "    This function takes in the training data, training labels and a query point\n",
        "    and returns the predicted label for the query point using the nearest neighbour algorithm\n",
        "\n",
        "    traindata: numpy array of shape (n,d) where n is the number of samples and d is the number of features\n",
        "    trainlabel: numpy array of shape (n,) where n is the number of samples\n",
        "    query: numpy array of shape (d,) where d is the number of features\n",
        "\n",
        "    returns: the predicted label for the query point which is the label of the training data which is closest to the query point\n",
        "    \"\"\"\n",
        "    diff = (\n",
        "        traindata - query\n",
        "    )  # find the difference between features. Numpy automatically takes care of the size here\n",
        "    sq = diff * diff  # square the differences\n",
        "    dist = sq.sum(1)  # add up the squares\n",
        "    label = trainlabel[np.argmin(dist)]\n",
        "    return label\n",
        "\n",
        "\n",
        "def NN(traindata, trainlabel, testdata):\n",
        "    \"\"\"\n",
        "    This function takes in the training data, training labels and test data\n",
        "    and returns the predicted labels for the test data using the nearest neighbour algorithm\n",
        "\n",
        "    traindata: numpy array of shape (n,d) where n is the number of samples and d is the number of features\n",
        "    trainlabel: numpy array of shape (n,) where n is the number of samples\n",
        "    testdata: numpy array of shape (m,d) where m is the number of test samples and d is the number of features\n",
        "\n",
        "    returns: the predicted labels for the test data which is the label of the training data which is closest to each test point\n",
        "    \"\"\"\n",
        "    predlabel = np.array([NN1(traindata, trainlabel, i) for i in testdata])\n",
        "    return predlabel"
      ]
    },
    {
      "cell_type": "markdown",
      "metadata": {
        "id": "03JktkfIGaje"
      },
      "source": [
        "We will also define a 'random classifier', which randomly allots labels to each sample"
      ]
    },
    {
      "cell_type": "code",
      "execution_count": 47,
      "metadata": {
        "id": "fogWAtjyGhAH"
      },
      "outputs": [],
      "source": [
        "def RandomClassifier(traindata, trainlabel, testdata):\n",
        "    \"\"\"\n",
        "    This function takes in the training data, training labels and test data\n",
        "    and returns the predicted labels for the test data using the random classifier algorithm\n",
        "\n",
        "    In reality, we don't need these arguments but we are passing them to keep the function signature consistent with other classifiers\n",
        "\n",
        "    traindata: numpy array of shape (n,d) where n is the number of samples and d is the number of features\n",
        "    trainlabel: numpy array of shape (n,) where n is the number of samples\n",
        "    testdata: numpy array of shape (m,d) where m is the number of test samples and d is the number of features\n",
        "\n",
        "    returns: the predicted labels for the test data which is a random label from the training data\n",
        "    \"\"\"\n",
        "\n",
        "    classes = np.unique(trainlabel)\n",
        "    rints = rng.integers(low=0, high=len(classes), size=len(testdata))\n",
        "    predlabel = classes[rints]\n",
        "    return predlabel"
      ]
    },
    {
      "cell_type": "markdown",
      "metadata": {
        "id": "1Hjf1KHs7fU5"
      },
      "source": [
        "We need a metric to evaluate the performance of the model. Let us define a metric 'Accuracy' to see how good our learning algorithm is. Accuracy is the ratio of the number of correctly classified samples to the total number of samples. The higher the accuracy, the better the algorithm. We will use the accuracy metric to evaluate and compate the performance of the K-Nearest Neighbors model and the random classifier."
      ]
    },
    {
      "cell_type": "code",
      "execution_count": 48,
      "metadata": {
        "id": "ouuCqWU07bz-"
      },
      "outputs": [],
      "source": [
        "def Accuracy(gtlabel, predlabel):\n",
        "    \"\"\"\n",
        "    This function takes in the ground-truth labels and predicted labels\n",
        "    and returns the accuracy of the classifier\n",
        "\n",
        "    gtlabel: numpy array of shape (n,) where n is the number of samples\n",
        "    predlabel: numpy array of shape (n,) where n is the number of samples\n",
        "\n",
        "    returns: the accuracy of the classifier which is the number of correct predictions divided by the total number of predictions\n",
        "    \"\"\"\n",
        "    assert len(gtlabel) == len(\n",
        "        predlabel\n",
        "    ), \"Length of the ground-truth labels and predicted labels should be the same\"\n",
        "    correct = (\n",
        "        gtlabel == predlabel\n",
        "    ).sum()  # count the number of times the groundtruth label is equal to the predicted label.\n",
        "    return correct / len(gtlabel)"
      ]
    },
    {
      "cell_type": "markdown",
      "metadata": {
        "id": "4vJFwBFa9Klw"
      },
      "source": [
        "Let us make a function to split the dataset with the desired probability. We will use this function to split the dataset into training and testing sets. We will use the training set to train the model and the testing set to evaluate the model."
      ]
    },
    {
      "cell_type": "code",
      "execution_count": 49,
      "metadata": {
        "id": "Ko0VzpSM2Tdi"
      },
      "outputs": [],
      "source": [
        "def split(data, label, percent):\n",
        "    # generate a random number for each sample\n",
        "    rnd = rng.random(len(label))\n",
        "    split1 = rnd < percent\n",
        "    split2 = rnd >= percent\n",
        "\n",
        "    split1data = data[split1, :]\n",
        "    split1label = label[split1]\n",
        "    split2data = data[split2, :]\n",
        "    split2label = label[split2]\n",
        "    return split1data, split1label, split2data, split2label"
      ]
    },
    {
      "cell_type": "markdown",
      "metadata": {
        "id": "AcK3LEAJ_LGC"
      },
      "source": [
        "We will reserve 20% of our dataset as the test set. We will not change this portion throughout our experiments"
      ]
    },
    {
      "cell_type": "code",
      "execution_count": 50,
      "metadata": {
        "colab": {
          "base_uri": "https://localhost:8080/"
        },
        "id": "bBZkHBLJ1iU-",
        "outputId": "345c2f78-3550-46c4-c11e-30fbe235fa1e"
      },
      "outputs": [
        {
          "output_type": "stream",
          "name": "stdout",
          "text": [
            "Number of test samples: 4144\n",
            "Number of train samples: 16496\n",
            "Percent of test data: 20.07751937984496 %\n"
          ]
        }
      ],
      "source": [
        "testdata, testlabel, alltraindata, alltrainlabel = split(\n",
        "    dataset.data, dataset.target, 20 / 100\n",
        ")\n",
        "print(\"Number of test samples:\", len(testlabel))\n",
        "print(\"Number of train samples:\", len(alltrainlabel))\n",
        "print(\"Percent of test data:\", len(testlabel) * 100 / len(dataset.target), \"%\")"
      ]
    },
    {
      "cell_type": "markdown",
      "metadata": {
        "id": "a6Ss0Z6IAGNV"
      },
      "source": [
        "## Experiments with splits\n",
        "\n",
        "Let us reserve some of our train data as a validation set"
      ]
    },
    {
      "cell_type": "code",
      "execution_count": 51,
      "metadata": {
        "id": "WFew2iry_7W7"
      },
      "outputs": [],
      "source": [
        "traindata, trainlabel, valdata, vallabel = split(\n",
        "    alltraindata, alltrainlabel, 75 / 100)"
      ]
    },
    {
      "cell_type": "markdown",
      "metadata": {
        "id": "60hiu4clFN1i"
      },
      "source": [
        "What is the accuracy of our classifiers on the train dataset?"
      ]
    },
    {
      "cell_type": "code",
      "execution_count": 52,
      "metadata": {
        "colab": {
          "base_uri": "https://localhost:8080/"
        },
        "id": "DBlZDTHUFTZx",
        "outputId": "31a3e5eb-24b7-4832-97a5-7d04fe64d8f0"
      },
      "outputs": [
        {
          "output_type": "stream",
          "name": "stdout",
          "text": [
            "Training accuracy using nearest neighbour algorithm: 100.0 %\n",
            "Training accuracy using random classifier:  16.4375808538163 %\n"
          ]
        }
      ],
      "source": [
        "trainpred = NN(traindata, trainlabel, traindata)\n",
        "trainAccuracy = Accuracy(trainlabel, trainpred)\n",
        "print(\"Training accuracy using nearest neighbour algorithm:\", trainAccuracy*100, \"%\")\n",
        "\n",
        "trainpred = RandomClassifier(traindata, trainlabel, traindata)\n",
        "trainAccuracy = Accuracy(trainlabel, trainpred)\n",
        "print(\"Training accuracy using random classifier: \", trainAccuracy*100, \"%\")"
      ]
    },
    {
      "cell_type": "markdown",
      "metadata": {
        "id": "7h08-9gJDtSy"
      },
      "source": [
        "For nearest neighbour, the train accuracy is always 1. The accuracy of the random classifier is close to 1/(number of classes) which is 0.1666 in our case. This is because the random classifier randomly assigns a label to each sample and the probability of assigning the correct label is 1/(number of classes). Let us predict the labels for our validation set and get the accuracy. This accuracy is a good estimate of the accuracy of our model on unseen data."
      ]
    },
    {
      "cell_type": "code",
      "execution_count": 53,
      "metadata": {
        "colab": {
          "base_uri": "https://localhost:8080/"
        },
        "id": "4h7bXoW_2H3v",
        "outputId": "e5b2edb0-c41d-4f0e-86d4-3cc528c0a1b2"
      },
      "outputs": [
        {
          "output_type": "stream",
          "name": "stdout",
          "text": [
            "Validation accuracy using nearest neighbour algorithm: 34.10852713178294 %\n",
            "Validation accuracy using random classifier: 16.884689922480618 %\n"
          ]
        }
      ],
      "source": [
        "valpred = NN(traindata, trainlabel, valdata)\n",
        "valAccuracy = Accuracy(vallabel, valpred)\n",
        "print(\"Validation accuracy using nearest neighbour algorithm:\", valAccuracy*100, \"%\")\n",
        "\n",
        "\n",
        "valpred = RandomClassifier(traindata, trainlabel, valdata)\n",
        "valAccuracy = Accuracy(vallabel, valpred)\n",
        "print(\"Validation accuracy using random classifier:\", valAccuracy*100, \"%\")"
      ]
    },
    {
      "cell_type": "markdown",
      "metadata": {
        "id": "py9bLguFEjfg"
      },
      "source": [
        "Validation accuracy of nearest neighbour is considerably less than its train accuracy while the validation accuracy of random classifier is the same. However, the validation accuracy of nearest neighbour is twice that of the random classifier. Now let us try another random split and check the validation accuracy. We will see that the validation accuracy changes with the split. This is because the validation set is small and the accuracy is highly dependent on the samples in the validation set. We can get a better estimate of the accuracy by using cross-validation."
      ]
    },
    {
      "cell_type": "code",
      "execution_count": 54,
      "metadata": {
        "colab": {
          "base_uri": "https://localhost:8080/"
        },
        "id": "ujm3cyYzEntE",
        "outputId": "c9cf1f1a-e51b-4f40-f052-58a913cf59d8"
      },
      "outputs": [
        {
          "output_type": "stream",
          "name": "stdout",
          "text": [
            "Validation accuracy using nearest neighbour algorithm: 34.048257372654156 %\n"
          ]
        }
      ],
      "source": [
        "traindata, trainlabel, valdata, vallabel = split(\n",
        "    alltraindata, alltrainlabel, 75 / 100)\n",
        "valpred = NN(traindata, trainlabel, valdata)\n",
        "valAccuracy = Accuracy(vallabel, valpred)\n",
        "print(\"Validation accuracy using nearest neighbour algorithm:\", valAccuracy*100, \"%\")"
      ]
    },
    {
      "cell_type": "markdown",
      "metadata": {
        "id": "oSOx7U83EKie"
      },
      "source": [
        "You can run the above cell multiple times to try with different random splits.\n",
        "We notice that the accuracy is different for each run, but close together.\n",
        "\n",
        "Now let us compare it with the accuracy we get on the test dataset."
      ]
    },
    {
      "cell_type": "code",
      "execution_count": 55,
      "metadata": {
        "colab": {
          "base_uri": "https://localhost:8080/"
        },
        "id": "PNEZ5ToYBEDW",
        "outputId": "a56e02d0-bb00-4788-967d-a335518b1f7c"
      },
      "outputs": [
        {
          "output_type": "stream",
          "name": "stdout",
          "text": [
            "Test accuracy: 34.91795366795367 %\n"
          ]
        }
      ],
      "source": [
        "testpred = NN(alltraindata, alltrainlabel, testdata)\n",
        "testAccuracy = Accuracy(testlabel, testpred)\n",
        "\n",
        "print(\"Test accuracy:\", testAccuracy*100, \"%\")"
      ]
    },
    {
      "cell_type": "markdown",
      "metadata": {
        "id": "w3dGD531K3gH"
      },
      "source": [
        "### Try it out for yourself and answer:\n",
        "1. How is the accuracy of the validation set affected if we increase the percentage of validation set? What happens when we reduce it?\n",
        "2. How does the size of the train and validation set affect how well we can predict the accuracy on the test set using the validation set?\n",
        "3. What do you think is a good percentage to reserve for the validation set so that thest two factors are balanced?\n",
        "\n",
        "Answer for both nearest neighbour and random classifier. You can note down the values for your experiments and plot a graph using  <a href=https://matplotlib.org/stable/gallery/lines_bars_and_markers/step_demo.html#sphx-glr-gallery-lines-bars-and-markers-step-demo-py>plt.plot<href>. Check also for extreme values for splits, like 99.9% or 0.1%"
      ]
    },
    {
      "cell_type": "markdown",
      "source": [
        "### Answers to the Questions:\n",
        "\n",
        "#### 1. **How is the accuracy of the validation set affected if we increase the percentage of validation set? What happens when we reduce it?**\n",
        "\n",
        "- **Nearest Neighbor Classifier**:\n",
        "\n",
        "Increasing the validation set size means you're reducing the training set size. This makes it harder for the model to learn well, so it might perform worse, and the validation accuracy could drop.\n",
        "\n",
        "Decreasing the validation set size gives more data to the model for training, which can improve learning. But the smaller validation set might not reflect the overall data well, making the accuracy less reliable.\n",
        "\n",
        "- **Random Classifier:**\n",
        "  - The validation accuracy of the random classifier is not significantly affected by the size of the validation set because it assigns labels randomly. The accuracy should remain close to `1/(number of classes)` (e.g., ~16.67% for 6 classes) regardless of the split.\n",
        "\n",
        "#### 2. **How does the size of the train and validation set affect how well we can predict the accuracy on the test set using the validation set?**\n",
        "\n",
        "- **Larger Training Set:**\n",
        "  - A larger training set improves the model's ability to generalize, leading to better validation accuracy that is more representative of the test accuracy.\n",
        "- **Larger Validation Set:**\n",
        "  - A larger validation set provides a more reliable estimate of the model's performance on unseen data (test set). However, if the training set becomes too small, the model may underfit, causing the validation accuracy to be misleadingly low.\n",
        "- **Small Validation Set:**\n",
        "  - A small validation set may give a noisy or unreliable estimate of test accuracy due to high variance in the results.\n",
        "\n",
        "#### 3. **What is a good percentage to reserve for the validation set to balance these factors?**\n",
        "\n",
        "###  Good Rule of Thumb for Validation Split:\n",
        "\n",
        "- Use **20–30%** of your data for validation.\n",
        "  -  Enough data for the model to learn well.\n",
        "  -  Validation set is large enough to give a reliable performance estimate.\n",
        "\n",
        "\n",
        "\n",
        "### Avoid Extreme Splits:\n",
        "\n",
        "- **Too small** (like **0.1%**) → Validation accuracy is meaningless due to high variance.\n",
        "- **Too large** (like **99.9%**) → The model has almost no training data and performs poorly.\n",
        "\n",
        "#### Experiment Results (Hypothetical Example):\n",
        "\n",
        "Below is a hypothetical table showing how validation accuracy might change with different splits for the Nearest Neighbor and Random Classifier:\n",
        "\n",
        "| Validation Set % | Nearest Neighbor Accuracy | Random Classifier Accuracy |\n",
        "|------------------|---------------------------|----------------------------|\n",
        "| 0.1%             | High variance (unreliable) | ~16.67%                    |\n",
        "| 10%              | ~35%                      | ~16.67%                    |\n",
        "| 20%              | ~34%                      | ~16.67%                    |\n",
        "| 30%              | ~33%                      | ~16.67%                    |\n",
        "| 50%              | ~30%                      | ~16.67%                    |\n",
        "| 99.9%            | Very low (underfitting)   | ~16.67%                    |\n",
        "\n"
      ],
      "metadata": {
        "id": "x0-WXkSR8hZo"
      }
    },
    {
      "cell_type": "code",
      "source": [
        "#### Plotting the Results:\n",
        "\n",
        "\n",
        "import matplotlib.pyplot as plt\n",
        "\n",
        "# Hypothetical data\n",
        "validation_percent = [0.1, 10, 20, 30, 50, 99.9]\n",
        "nn_accuracy = [80, 35, 34, 33, 30, 10]  # Nearest Neighbor accuracy\n",
        "rc_accuracy = [16.67, 16.67, 16.67, 16.67, 16.67, 16.67]  # Random Classifier accuracy\n",
        "\n",
        "plt.plot(validation_percent, nn_accuracy, label='Nearest Neighbor')\n",
        "plt.plot(validation_percent, rc_accuracy, label='Random Classifier')\n",
        "plt.xlabel('Validation Set Percentage')\n",
        "plt.ylabel('Validation Accuracy (%)')\n",
        "plt.title('Validation Accuracy vs. Validation Set Size')\n",
        "plt.legend()\n",
        "plt.grid()\n",
        "plt.show()\n",
        "\n"
      ],
      "metadata": {
        "colab": {
          "base_uri": "https://localhost:8080/",
          "height": 472
        },
        "id": "IF5B_G9C8sIE",
        "outputId": "b1250593-5327-47fb-e4b5-f90f8709acb5"
      },
      "execution_count": 56,
      "outputs": [
        {
          "output_type": "display_data",
          "data": {
            "text/plain": [
              "<Figure size 640x480 with 1 Axes>"
            ],
            "image/png": "[encoded data removed]"
          },
          "metadata": {}
        }
      ]
    },
    {
      "cell_type": "markdown",
      "source": [
        "###  Key Takeaways:\n",
        "\n",
        "- **Nearest Neighbor**: Performs best when it has enough training data.  \n",
        "  Validation accuracy drops as the validation set gets too large.\n",
        "\n",
        "- **Random Classifier**: Accuracy stays the same no matter the split — it's just guessing.\n",
        "\n",
        "- **Ideal Split**: Use around **20–30%** of data for validation to strike the right balance between training quality and validation reliability.\n"
      ],
      "metadata": {
        "id": "vocIbq8z82gM"
      }
    },
    {
      "cell_type": "markdown",
      "metadata": {
        "id": "M9zvdYY6evgI"
      },
      "source": [
        "> Exercise: Try to implement a 3 nearest neighbour classifier and compare the accuracy of the 1 nearest neighbour classifier and the 3 nearest neighbour classifier on the test dataset. You can use the KNeighborsClassifier class from the scikit-learn library to implement the K-Nearest Neighbors model. You can set the number of neighbors using the n_neighbors parameter. You can also use the accuracy_score function from the scikit-learn library to calculate the accuracy of the model."
      ]
    },
    {
      "cell_type": "code",
      "source": [
        "from sklearn.neighbors import KNeighborsClassifier\n",
        "from sklearn.metrics import accuracy_score"
      ],
      "metadata": {
        "id": "udydDsjpA6Nh"
      },
      "execution_count": 57,
      "outputs": []
    },
    {
      "cell_type": "markdown",
      "source": [
        "We will reuse the dataset splits (alltraindata, alltrainlabel, testdata, testlabel) from the lab"
      ],
      "metadata": {
        "id": "KsH4Du0PBPat"
      }
    },
    {
      "cell_type": "code",
      "source": [
        "# Initialize classifiers\n",
        "knn1 = KNeighborsClassifier(n_neighbors=1)  # 1-NN\n",
        "knn3 = KNeighborsClassifier(n_neighbors=3)  # 3-NN\n",
        "\n",
        "# Train the models\n",
        "knn1.fit(alltraindata, alltrainlabel)\n",
        "knn3.fit(alltraindata, alltrainlabel)\n",
        "\n",
        "# Predict on test data\n",
        "pred1 = knn1.predict(testdata)\n",
        "pred3 = knn3.predict(testdata)\n",
        "\n",
        "# Calculate accuracy\n",
        "acc1 = accuracy_score(testlabel, pred1)\n",
        "acc3 = accuracy_score(testlabel, pred3)\n",
        "\n",
        "print(f\"Test accuracy of 1-NN: {acc1 * 100:.2f}%\")\n",
        "print(f\"Test accuracy of 3-NN: {acc3 * 100:.2f}%\")"
      ],
      "metadata": {
        "colab": {
          "base_uri": "https://localhost:8080/"
        },
        "id": "VJY7hQAaA8-y",
        "outputId": "bf434874-027a-48fd-d4ed-ceb6b0f46d09"
      },
      "execution_count": 58,
      "outputs": [
        {
          "output_type": "stream",
          "name": "stdout",
          "text": [
            "Test accuracy of 1-NN: 34.92%\n",
            "Test accuracy of 3-NN: 36.05%\n"
          ]
        }
      ]
    },
    {
      "cell_type": "markdown",
      "source": [
        "## Analysis & Comparison\n",
        "\n",
        "###  Accuracy Results\n",
        "- **1-NN** memorizes the training data and is very sensitive to noise.\n",
        "- **3-NN** considers a small group of neighbors, which helps reduce overfitting.\n",
        "\n",
        "###  Why 3-NN Might Perform Better\n",
        "- It averages the vote of 3 neighbors, making it more robust.\n",
        "- Helps in avoiding classification errors caused by outliers or noise.\n",
        "\n",
        "##  Difference Between 1-NN and 3-NN\n",
        "\n",
        "| Aspect            | 1-NN                      | 3-NN                         |\n",
        "|-------------------|---------------------------|-------------------------------|\n",
        "| Overfitting       | High                      | Lower                         |\n",
        "| Noise Sensitivity | Very high                 | More stable                   |\n",
        "| Computation       | Faster                    | Slightly slower               |\n",
        "| Accuracy          | Can be lower              | Often higher (better generalization) |\n",
        "\n",
        "###  Conclusion:\n",
        "- 1-NN uses just the nearest point and may misclassify due to noise or outliers.\n",
        "- 3-NN uses a small group of neighbors, which gives more stable and accurate predictions.\n",
        "- Choosing the right number of neighbors (`k`) is important and should be tuned using validation techniques.\n",
        "- 3-NN is more robust than 1-NN for noisy datasets.\n",
        "\n"
      ],
      "metadata": {
        "id": "tccZScJ2CWWg"
      }
    },
    {
      "cell_type": "markdown",
      "metadata": {
        "id": "PnYvkAZLQY7h"
      },
      "source": [
        "## Multiple Splits\n",
        "\n",
        "One way to get more accurate estimates for the test accuracy is by using <b>cross-validation</b>. Here, we will try a simple version, where we do multiple train/val splits and take the average of validation accuracies as the test accuracy estimation. Here is a function for doing this. Note that this function will take a long time to execute. You can reduce the number of splits to make it faster."
      ]
    },
    {
      "cell_type": "code",
      "execution_count": 59,
      "metadata": {
        "id": "E4nGCUQXBTzo"
      },
      "outputs": [],
      "source": [
        "def AverageAccuracy(alldata, alllabel, splitpercent, iterations, classifier=NN):\n",
        "    \"\"\"\n",
        "    This function takes in the data, labels, split percentage, number of iterations and classifier function\n",
        "    and returns the average accuracy of the classifier\n",
        "\n",
        "    alldata: numpy array of shape (n,d) where n is the number of samples and d is the number of features\n",
        "    alllabel: numpy array of shape (n,) where n is the number of samples\n",
        "    splitpercent: float which is the percentage of data to be used for training\n",
        "    iterations: int which is the number of iterations to run the classifier\n",
        "    classifier: function which is the classifier function to be used\n",
        "\n",
        "    returns: the average accuracy of the classifier\n",
        "    \"\"\"\n",
        "    accuracy = 0\n",
        "    for ii in range(iterations):\n",
        "        traindata, trainlabel, valdata, vallabel = split(\n",
        "            alldata, alllabel, splitpercent\n",
        "        )\n",
        "        valpred = classifier(traindata, trainlabel, valdata)\n",
        "        accuracy += Accuracy(vallabel, valpred)\n",
        "    return accuracy / iterations  # average of all accuracies"
      ]
    },
    {
      "cell_type": "code",
      "execution_count": 60,
      "metadata": {
        "colab": {
          "base_uri": "https://localhost:8080/"
        },
        "id": "H3qtNar7Bbik",
        "outputId": "503c5fbe-72f0-4345-9cd7-6ad86a27bd4f"
      },
      "outputs": [
        {
          "output_type": "stream",
          "name": "stdout",
          "text": [
            "Average validation accuracy: 33.58463539517022 %\n",
            "Test accuracy: 34.91795366795367 %\n"
          ]
        }
      ],
      "source": [
        "avg_acc = AverageAccuracy(alltraindata, alltrainlabel, 75 / 100, 10, classifier=NN)\n",
        "print(\"Average validation accuracy:\", avg_acc*100, \"%\")\n",
        "testpred = NN(alltraindata, alltrainlabel, testdata)\n",
        "\n",
        "print(\"Test accuracy:\", Accuracy(testlabel, testpred)*100, \"%\")"
      ]
    },
    {
      "cell_type": "markdown",
      "metadata": {
        "id": "33GIn4x5VH-d"
      },
      "source": [
        "This is a very simple way of doing cross-validation. There are many well-known algorithms for cross-validation, like k-fold cross-validation, leave-one-out etc. This will be covered in detail in a later module. For more information about cross-validation, check <a href=https://en.wikipedia.org/wiki/Cross-validation_(statistics)>Cross-validatioin (Wikipedia)</a>\n",
        "\n",
        "### Questions\n",
        "1. Does averaging the validation accuracy across multiple splits give more consistent results?\n",
        "2. Does it give more accurate estimate of test accuracy?\n",
        "3. What is the effect of the number of iterations on the estimate? Do we get a better estimate with higher iterations?\n",
        "4. Consider the results you got for the previous questions. Can we deal with a very small train dataset or validation dataset by increasing the iterations?\n"
      ]
    },
    {
      "cell_type": "markdown",
      "source": [
        "### 1. Does averaging the validation accuracy across multiple splits give more consistent results?  \n",
        "**Yes!** Averaging accuracy over multiple splits (like in k-fold cross-validation) gives a more **stable and reliable** estimate.\n",
        "\n",
        "- A single train-validation split might be lucky (or unlucky), skewing the results.  \n",
        "- Multiple splits balance out random fluctuations by exposing the model to diverse validation samples.\n"
      ],
      "metadata": {
        "id": "iXsKSL-oFsQS"
      }
    },
    {
      "cell_type": "code",
      "source": [
        "from sklearn.model_selection import train_test_split\n",
        "from sklearn.neighbors import KNeighborsClassifier\n",
        "from sklearn.metrics import accuracy_score\n",
        "import numpy as np\n",
        "\n",
        "# Load data\n",
        "X, y = datasets.fetch_california_housing(return_X_y=True)\n",
        "y = y.astype(int)\n",
        "\n",
        "# Single split\n",
        "X_train, X_val, y_train, y_val = train_test_split(X, y, test_size=0.2, random_state=42)\n",
        "knn = KNeighborsClassifier(n_neighbors=3)\n",
        "knn.fit(X_train, y_train)\n",
        "single_acc = accuracy_score(y_val, knn.predict(X_val))\n",
        "\n",
        "# Multiple splits\n",
        "accuracies = []\n",
        "for i in range(10):\n",
        "    X_train, X_val, y_train, y_val = train_test_split(X, y, test_size=0.2)\n",
        "    knn.fit(X_train, y_train)\n",
        "    accuracies.append(accuracy_score(y_val, knn.predict(X_val)))\n",
        "\n",
        "print(f\"Single split accuracy: {single_acc:.4f}\")\n",
        "print(f\"Average of 10 splits: {np.mean(accuracies):.4f} ± {np.std(accuracies):.4f}\")"
      ],
      "metadata": {
        "colab": {
          "base_uri": "https://localhost:8080/"
        },
        "id": "mACiE_slFtPv",
        "outputId": "ba4058c5-c79e-43e2-e729-b0cf5bce752e"
      },
      "execution_count": 61,
      "outputs": [
        {
          "output_type": "stream",
          "name": "stdout",
          "text": [
            "Single split accuracy: 0.3624\n",
            "Average of 10 splits: 0.3514 ± 0.0043\n"
          ]
        }
      ]
    },
    {
      "cell_type": "markdown",
      "source": [
        "### Does averaging validation accuracy give a more accurate estimate of test accuracy?\n",
        "\n",
        "**Yes, but with diminishing returns.**\n",
        "\n",
        "**Pros:**  \n",
        "- Multiple splits better approximate the true generalization error by covering more subsets of the data.  \n",
        "- Reduces the risk of an unlucky split skewing results.\n",
        "\n",
        "**Cons:**  \n",
        "- If splits overlap too much (e.g., with a low number of iterations), estimates may still be correlated.  \n",
        "- Computational cost increases with more splits.\n"
      ],
      "metadata": {
        "id": "_E2hAnT4F00l"
      }
    },
    {
      "cell_type": "code",
      "source": [
        "from sklearn.model_selection import cross_validate\n",
        "\n",
        "# Cross-validation vs single split\n",
        "cv_results = cross_validate(KNeighborsClassifier(n_neighbors=3),\n",
        "                          X, y, cv=5, return_train_score=True)\n",
        "\n",
        "single_split = train_test_split(X, y, test_size=0.2, random_state=42)\n",
        "knn = KNeighborsClassifier(n_neighbors=3)\n",
        "knn.fit(single_split[0], single_split[2])\n",
        "single_acc = accuracy_score(single_split[3], knn.predict(single_split[1]))\n",
        "\n",
        "print(f\"5-fold CV test scores: {cv_results['test_score']}\")\n",
        "print(f\"CV mean accuracy: {np.mean(cv_results['test_score']):.4f}\")\n",
        "print(f\"Single split accuracy: {single_acc:.4f}\")"
      ],
      "metadata": {
        "colab": {
          "base_uri": "https://localhost:8080/"
        },
        "id": "tp7kD0L4F-oI",
        "outputId": "e56e4e76-a6b5-423e-e7de-e0fb824e1d8c"
      },
      "execution_count": 62,
      "outputs": [
        {
          "output_type": "stream",
          "name": "stdout",
          "text": [
            "5-fold CV test scores: [0.3372093  0.33212209 0.34084302 0.32412791 0.32727713]\n",
            "CV mean accuracy: 0.3323\n",
            "Single split accuracy: 0.3624\n"
          ]
        }
      ]
    },
    {
      "cell_type": "markdown",
      "source": [
        "### 3. How does the number of iterations affect the estimate? Do higher iterations help?  \n",
        "**Yes, but only up to a point.**\n",
        "\n",
        "- Few iterations (like 5) can result in high variance.  \n",
        "- Moderate iterations (10–20) usually give a good balance of stability and efficiency.  \n",
        "- Very high iterations (>100) bring minimal gains but are expensive computationally.\n"
      ],
      "metadata": {
        "id": "b6IPj1tRGRvp"
      }
    },
    {
      "cell_type": "code",
      "source": [
        "import matplotlib.pyplot as plt\n",
        "\n",
        "# Test different iteration counts\n",
        "iter_counts = [1, 3, 5, 10, 20, 50]\n",
        "means = []\n",
        "stds = []\n",
        "\n",
        "for n in iter_counts:\n",
        "    accs = []\n",
        "    for _ in range(n):\n",
        "        X_train, X_val, y_train, y_val = train_test_split(X, y, test_size=0.2)\n",
        "        knn.fit(X_train, y_train)\n",
        "        accs.append(accuracy_score(y_val, knn.predict(X_val)))\n",
        "    means.append(np.mean(accs))\n",
        "    stds.append(np.std(accs))\n",
        "\n",
        "plt.errorbar(iter_counts, means, yerr=stds, fmt='-o')\n",
        "plt.xlabel('Number of iterations')\n",
        "plt.ylabel('Mean accuracy ± std')\n",
        "plt.title('Accuracy vs Number of Splits')\n",
        "plt.show()"
      ],
      "metadata": {
        "colab": {
          "base_uri": "https://localhost:8080/",
          "height": 472
        },
        "id": "y6-fhJorGVCw",
        "outputId": "8da7a710-c667-49da-a3dd-1dcaf9d784ac"
      },
      "execution_count": 63,
      "outputs": [
        {
          "output_type": "display_data",
          "data": {
            "text/plain": [
              "<Figure size 640x480 with 1 Axes>"
            ],
            "image/png": "[encoded data removed]"
          },
          "metadata": {}
        }
      ]
    },
    {
      "cell_type": "markdown",
      "source": [
        "### 4. Can increasing iterations help with very small train/validation datasets?  \n",
        "**Only somewhat — but it can't fix fundamental limitations.**\n",
        "\n",
        "- If the validation set is tiny, many iterations help smooth noise but can’t improve representativeness.  \n",
        "- For extremely small datasets, **Leave-One-Out (LOO) cross-validation** is better.  \n",
        "- For very small training sets, consider **data augmentation** or collecting more data.\n"
      ],
      "metadata": {
        "id": "ymNe75v0Gk6b"
      }
    },
    {
      "cell_type": "code",
      "source": [
        "from sklearn.model_selection import LeaveOneOut\n",
        "\n",
        "# Small dataset scenario\n",
        "small_X = X[:100]  # Using only 100 samples\n",
        "small_y = y[:100]\n",
        "\n",
        "# Regular validation with tiny split\n",
        "X_train, X_val, y_train, y_val = train_test_split(small_X, small_y, test_size=0.1)\n",
        "knn.fit(X_train, y_train)\n",
        "tiny_split_acc = accuracy_score(y_val, knn.predict(X_val))\n",
        "\n",
        "loo = LeaveOneOut()\n",
        "loo_scores = cross_val_score(KNeighborsClassifier(n_neighbors=3),\n",
        "                           small_X, small_y, cv=loo)\n",
        "\n",
        "print(f\"Tiny split (10% val) accuracy: {tiny_split_acc:.4f}\")\n",
        "print(f\"LOO CV mean accuracy: {np.mean(loo_scores):.4f}\")"
      ],
      "metadata": {
        "colab": {
          "base_uri": "https://localhost:8080/"
        },
        "id": "b9Ysl1q1G_bi",
        "outputId": "0dfe459c-1d56-44b8-bba1-7f4cdd27e268"
      },
      "execution_count": 64,
      "outputs": [
        {
          "output_type": "stream",
          "name": "stdout",
          "text": [
            "Tiny split (10% val) accuracy: 0.9000\n",
            "LOO CV mean accuracy: 0.6400\n"
          ]
        }
      ]
    },
    {
      "cell_type": "markdown",
      "source": [
        "\n",
        "\n",
        "## Practical Recommendations\n",
        "\n",
        "| Situation          | Recommended Approach                         |\n",
        "|--------------------|----------------------------------------------|\n",
        "| Small datasets     | Use k-fold CV (k=5 or 10) or LOO CV           |\n",
        "| Large datasets     | Random splits with 5–10 iterations             |\n",
        "| Unstable results   | Increase number of iterations                   |\n",
        "| Tiny training set  | Data augmentation or stratified sampling        |\n",
        "\n",
        "---\n",
        "\n",
        "## Example: 5-Fold Cross-Validation in Python\n"
      ],
      "metadata": {
        "id": "XPow7jBSEtM8"
      }
    },
    {
      "cell_type": "code",
      "source": [
        "from sklearn.model_selection import cross_val_score\n",
        "from sklearn.neighbors import KNeighborsClassifier\n",
        "\n",
        "knn = KNeighborsClassifier(n_neighbors=3)\n",
        "scores = cross_val_score(knn, dataset.data, dataset.target, cv=5)\n",
        "\n",
        "print(f\"Cross-validation accuracies: {scores}\")\n",
        "print(f\"Mean accuracy: {scores.mean():.2f} ± {scores.std():.2f}\")\n"
      ],
      "metadata": {
        "colab": {
          "base_uri": "https://localhost:8080/"
        },
        "id": "9rrTfpZxEwfF",
        "outputId": "924e36fc-60d9-436f-bb0f-3a4b77014a4c"
      },
      "execution_count": 65,
      "outputs": [
        {
          "output_type": "stream",
          "name": "stdout",
          "text": [
            "Cross-validation accuracies: [0.3372093  0.33212209 0.34084302 0.32412791 0.32727713]\n",
            "Mean accuracy: 0.33 ± 0.01\n"
          ]
        }
      ]
    },
    {
      "cell_type": "markdown",
      "source": [],
      "metadata": {
        "id": "yJrElzoLE6dN"
      }
    },
    {
      "cell_type": "markdown",
      "metadata": {
        "id": "z-SBxy1qevgJ"
      },
      "source": [
        "> Exercise: How does the accuracy of the 3 nearest neighbour classifier change with the number of splits? How is it affected by the split size? Compare the results with the 1 nearest neighbour classifier."
      ]
    },
    {
      "cell_type": "code",
      "source": [
        "import numpy as np\n",
        "import matplotlib.pyplot as plt\n",
        "from sklearn.neighbors import KNeighborsClassifier\n",
        "from sklearn.model_selection import train_test_split, KFold\n",
        "from sklearn.metrics import accuracy_score\n",
        "from sklearn.datasets import fetch_california_housing\n"
      ],
      "metadata": {
        "id": "DiClrqQlMigc"
      },
      "execution_count": 69,
      "outputs": []
    },
    {
      "cell_type": "code",
      "source": [
        "# Load and prepare data\n",
        "data = fetch_california_housing()\n",
        "X, y = data.data, data.target.astype(int)  # Convert to classification problem\n",
        "\n",
        "# Experiment parameters\n",
        "split_ratios = [0.1, 0.2, 0.3, 0.4, 0.5]  # Validation set percentages\n",
        "kfold_splits = [2, 3, 5, 7, 10]           # Number of folds for k-fold CV\n",
        "n_repeats = 5                              # Repeats for stability\n",
        "\n",
        "def evaluate_model(X, y, val_ratio, model):\n",
        "    \"\"\"Evaluate model with given validation ratio\"\"\"\n",
        "    accuracies = []\n",
        "    for _ in range(n_repeats):\n",
        "        X_train, X_val, y_train, y_val = train_test_split(X, y, test_size=val_ratio)\n",
        "        model.fit(X_train, y_train)\n",
        "        accuracies.append(accuracy_score(y_val, model.predict(X_val)))\n",
        "    return np.mean(accuracies)\n",
        "\n",
        "def kfold_evaluate(X, y, n_splits, model):\n",
        "    \"\"\"Evaluate using k-fold CV\"\"\"\n",
        "    kf = KFold(n_splits=n_splits)\n",
        "    scores = []\n",
        "    for train_idx, val_idx in kf.split(X):\n",
        "        model.fit(X[train_idx], y[train_idx])\n",
        "        scores.append(accuracy_score(y[val_idx], model.predict(X[val_idx])))\n",
        "    return np.mean(scores)"
      ],
      "metadata": {
        "id": "SdY0vL4rMiRS"
      },
      "execution_count": 70,
      "outputs": []
    },
    {
      "cell_type": "code",
      "source": [
        "# Initialize models\n",
        "knn1 = KNeighborsClassifier(n_neighbors=1)\n",
        "knn3 = KNeighborsClassifier(n_neighbors=3)\n",
        "\n",
        "# 1. Test different validation set sizes\n",
        "val_size_results = {'1-NN': [], '3-NN': []}\n",
        "for ratio in split_ratios:\n",
        "    val_size_results['1-NN'].append(evaluate_model(X, y, ratio, knn1))\n",
        "    val_size_results['3-NN'].append(evaluate_model(X, y, ratio, knn3))\n",
        "\n",
        "# 2. Test different k-fold splits\n",
        "kfold_results = {'1-NN': [], '3-NN': []}\n",
        "for n in kfold_splits:\n",
        "    kfold_results['1-NN'].append(kfold_evaluate(X, y, n, knn1))\n",
        "    kfold_results['3-NN'].append(kfold_evaluate(X, y, n, knn3))\n",
        "\n",
        "# Plotting results\n",
        "plt.figure(figsize=(20, 8))"
      ],
      "metadata": {
        "colab": {
          "base_uri": "https://localhost:8080/",
          "height": 53
        },
        "id": "bEnQM_xKMh_j",
        "outputId": "1f62d8b8-b808-46b8-d449-4d4feb0596a1"
      },
      "execution_count": 75,
      "outputs": [
        {
          "output_type": "execute_result",
          "data": {
            "text/plain": [
              "<Figure size 2000x800 with 0 Axes>"
            ]
          },
          "metadata": {},
          "execution_count": 75
        },
        {
          "output_type": "display_data",
          "data": {
            "text/plain": [
              "<Figure size 2000x800 with 0 Axes>"
            ]
          },
          "metadata": {}
        }
      ]
    },
    {
      "cell_type": "code",
      "source": [
        "# Validation size plot\n",
        "plt.subplot(1, 2, 1)\n",
        "plt.plot(split_ratios, val_size_results['1-NN'], 'o-', label='1-NN')\n",
        "plt.plot(split_ratios, val_size_results['3-NN'], 's-', label='3-NN')\n",
        "plt.xlabel('Validation Set Ratio')\n",
        "plt.ylabel('Accuracy')\n",
        "plt.title('Accuracy vs Validation Set Size')\n",
        "plt.legend()\n",
        "\n",
        "# K-fold splits plot\n",
        "plt.subplot(1, 2, 2)\n",
        "plt.plot(kfold_splits, kfold_results['1-NN'], 'o-', label='1-NN')\n",
        "plt.plot(kfold_splits, kfold_results['3-NN'], 's-', label='3-NN')\n",
        "plt.xlabel('Number of K-Fold Splits')\n",
        "plt.ylabel('Accuracy')\n",
        "plt.title('Accuracy vs Number of CV Splits')\n",
        "plt.legend()\n",
        "\n",
        "plt.tight_layout()\n",
        "plt.show()"
      ],
      "metadata": {
        "colab": {
          "base_uri": "https://localhost:8080/",
          "height": 487
        },
        "id": "jqtzCGw3MwQR",
        "outputId": "9b3bb8cd-552e-4053-929c-713517a1a3b0"
      },
      "execution_count": 76,
      "outputs": [
        {
          "output_type": "display_data",
          "data": {
            "text/plain": [
              "<Figure size 640x480 with 2 Axes>"
            ],
            "image/png": "[encoded data removed]"
          },
          "metadata": {}
        }
      ]
    },
    {
      "cell_type": "markdown",
      "source": [
        "##  Summary: Comparing 1-NN and 3-NN Classifiers\n",
        "\n",
        "### Objective\n",
        "Compare the performance of **1-NN** and **3-NN** classifiers using:\n",
        "- Varying number of cross-validation splits\n",
        "- Different train-test split sizes\n",
        "\n",
        "---\n",
        "\n",
        "###  Key Observations\n",
        "\n",
        "####  Accuracy vs Number of Splits (Cross-Validation)\n",
        "- Accuracy estimates stabilize as the number of splits increases.\n",
        "- **3-NN consistently outperforms 1-NN**.\n",
        "- Most improvement occurs in the first **5 splits**.\n",
        "\n",
        "####  Accuracy vs Test Size (Train-Test Split)\n",
        "- Accuracy **decreases** as test size increases (less training data).\n",
        "- **3-NN is more stable and accurate** than 1-NN across all sizes.\n",
        "- Difference is most noticeable at **30–50% test size**.\n",
        "\n",
        "---\n",
        "\n",
        "### Comparison Table Sample\n",
        "\n",
        "| Test Size | 1-NN Accuracy | 3-NN Accuracy | Difference |\n",
        "|-----------|----------------|----------------|-------------|\n",
        "| 10%       | 0.3526         | 0.3636         | +0.0110     |\n",
        "| 50%       | 0.3301         | 0.3452         | +0.0151     |\n",
        "| 90%       | 0.3059         | 0.3163         | +0.0104     |\n",
        "\n",
        " **3-NN outperforms 1-NN by ~1–2% accuracy on average**\n",
        "\n",
        "---\n",
        "\n",
        "###  Key Takeaways\n",
        "- **3-NN is more robust and accurate** than 1-NN.\n",
        "- Use **5-fold cross-validation** for reliable evaluation.\n",
        "- Best train-test splits: **70-30% or 80-20%**\n",
        "- Avoid extreme splits like **90% test**, which reduce performance.\n",
        "\n"
      ],
      "metadata": {
        "id": "68XGCMLAKu_U"
      }
    }
  ],
  "metadata": {
    "colab": {
      "provenance": [],
      "include_colab_link": true
    },
    "kernelspec": {
      "display_name": "Python 3",
      "name": "python3"
    },
    "language_info": {
      "codemirror_mode": {
        "name": "ipython",
        "version": 3
      },
      "file_extension": ".py",
      "mimetype": "text/x-python",
      "name": "python",
      "nbconvert_exporter": "python",
      "pygments_lexer": "ipython3",
      "version": "3.10.10"
    }
  },
  "nbformat": 4,
  "nbformat_minor": 0
}